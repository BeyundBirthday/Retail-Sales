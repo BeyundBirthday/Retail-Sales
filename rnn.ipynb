{
 "cells": [
  {
   "cell_type": "markdown",
   "metadata": {},
   "source": [
    "**Time Series Forecasting**"
   ]
  },
  {
   "cell_type": "code",
   "execution_count": 3,
   "metadata": {},
   "outputs": [],
   "source": [
    "import numpy as np\n",
    "import pandas as pd\n",
    "\n",
    "import matplotlib.pyplot as plt\n",
    "import seaborn as sns\n",
    "\n",
    "import tensorflow as tf\n",
    "from tensorflow import keras\n",
    "\n",
    "from sklearn.preprocessing import MinMaxScaler\n",
    "\n",
    "from tensorflow.keras.preprocessing.sequence import TimeseriesGenerator\n",
    "\n",
    "from tensorflow.keras.models import Sequential\n",
    "from tensorflow.keras.layers import Dense, LSTM\n",
    "\n",
    "from tensorflow.keras.callbacks import EarlyStopping"
   ]
  },
  {
   "cell_type": "code",
   "execution_count": 14,
   "metadata": {},
   "outputs": [],
   "source": [
    "dataset_path = 'RSCCASN.xls'"
   ]
  },
  {
   "cell_type": "code",
   "execution_count": 18,
   "metadata": {},
   "outputs": [],
   "source": [
    "sales_data = pd.read_csv(dataset_path,  parse_dates=True, index_col='DATE')"
   ]
  },
  {
   "cell_type": "code",
   "execution_count": 20,
   "metadata": {},
   "outputs": [
    {
     "data": {
      "text/html": [
       "<div>\n",
       "<style scoped>\n",
       "    .dataframe tbody tr th:only-of-type {\n",
       "        vertical-align: middle;\n",
       "    }\n",
       "\n",
       "    .dataframe tbody tr th {\n",
       "        vertical-align: top;\n",
       "    }\n",
       "\n",
       "    .dataframe thead th {\n",
       "        text-align: right;\n",
       "    }\n",
       "</style>\n",
       "<table border=\"1\" class=\"dataframe\">\n",
       "  <thead>\n",
       "    <tr style=\"text-align: right;\">\n",
       "      <th></th>\n",
       "      <th>RSCCASN</th>\n",
       "    </tr>\n",
       "    <tr>\n",
       "      <th>DATE</th>\n",
       "      <th></th>\n",
       "    </tr>\n",
       "  </thead>\n",
       "  <tbody>\n",
       "    <tr>\n",
       "      <th>1992-01-01</th>\n",
       "      <td>6938</td>\n",
       "    </tr>\n",
       "    <tr>\n",
       "      <th>1992-02-01</th>\n",
       "      <td>7524</td>\n",
       "    </tr>\n",
       "    <tr>\n",
       "      <th>1992-03-01</th>\n",
       "      <td>8475</td>\n",
       "    </tr>\n",
       "    <tr>\n",
       "      <th>1992-04-01</th>\n",
       "      <td>9401</td>\n",
       "    </tr>\n",
       "    <tr>\n",
       "      <th>1992-05-01</th>\n",
       "      <td>9558</td>\n",
       "    </tr>\n",
       "    <tr>\n",
       "      <th>...</th>\n",
       "      <td>...</td>\n",
       "    </tr>\n",
       "    <tr>\n",
       "      <th>2019-06-01</th>\n",
       "      <td>21123</td>\n",
       "    </tr>\n",
       "    <tr>\n",
       "      <th>2019-07-01</th>\n",
       "      <td>21714</td>\n",
       "    </tr>\n",
       "    <tr>\n",
       "      <th>2019-08-01</th>\n",
       "      <td>23791</td>\n",
       "    </tr>\n",
       "    <tr>\n",
       "      <th>2019-09-01</th>\n",
       "      <td>19695</td>\n",
       "    </tr>\n",
       "    <tr>\n",
       "      <th>2019-10-01</th>\n",
       "      <td>21113</td>\n",
       "    </tr>\n",
       "  </tbody>\n",
       "</table>\n",
       "<p>334 rows × 1 columns</p>\n",
       "</div>"
      ],
      "text/plain": [
       "            RSCCASN\n",
       "DATE               \n",
       "1992-01-01     6938\n",
       "1992-02-01     7524\n",
       "1992-03-01     8475\n",
       "1992-04-01     9401\n",
       "1992-05-01     9558\n",
       "...             ...\n",
       "2019-06-01    21123\n",
       "2019-07-01    21714\n",
       "2019-08-01    23791\n",
       "2019-09-01    19695\n",
       "2019-10-01    21113\n",
       "\n",
       "[334 rows x 1 columns]"
      ]
     },
     "execution_count": 20,
     "metadata": {},
     "output_type": "execute_result"
    }
   ],
   "source": [
    "sales_data"
   ]
  },
  {
   "cell_type": "code",
   "execution_count": 8,
   "metadata": {
    "execution": {
     "iopub.execute_input": "2024-10-06T11:38:33.677722Z",
     "iopub.status.busy": "2024-10-06T11:38:33.677373Z",
     "iopub.status.idle": "2024-10-06T11:38:33.681856Z",
     "shell.execute_reply": "2024-10-06T11:38:33.680896Z",
     "shell.execute_reply.started": "2024-10-06T11:38:33.677694Z"
    }
   },
   "outputs": [],
   "source": [
    "sales_data.columns = ['Sales']"
   ]
  },
  {
   "cell_type": "code",
   "execution_count": 9,
   "metadata": {
    "execution": {
     "iopub.execute_input": "2024-10-06T11:38:35.613696Z",
     "iopub.status.busy": "2024-10-06T11:38:35.613343Z",
     "iopub.status.idle": "2024-10-06T11:38:35.619062Z",
     "shell.execute_reply": "2024-10-06T11:38:35.618279Z",
     "shell.execute_reply.started": "2024-10-06T11:38:35.613660Z"
    }
   },
   "outputs": [
    {
     "data": {
      "text/plain": [
       "Index(['Sales'], dtype='object')"
      ]
     },
     "execution_count": 9,
     "metadata": {},
     "output_type": "execute_result"
    }
   ],
   "source": [
    "sales_data.columns"
   ]
  },
  {
   "cell_type": "code",
   "execution_count": 10,
   "metadata": {
    "execution": {
     "iopub.execute_input": "2024-10-06T11:38:43.717498Z",
     "iopub.status.busy": "2024-10-06T11:38:43.717117Z",
     "iopub.status.idle": "2024-10-06T11:38:43.730893Z",
     "shell.execute_reply": "2024-10-06T11:38:43.729840Z",
     "shell.execute_reply.started": "2024-10-06T11:38:43.717467Z"
    }
   },
   "outputs": [
    {
     "name": "stdout",
     "output_type": "stream",
     "text": [
      "<class 'pandas.core.frame.DataFrame'>\n",
      "DatetimeIndex: 334 entries, 1992-01-01 to 2019-10-01\n",
      "Data columns (total 1 columns):\n",
      " #   Column  Non-Null Count  Dtype\n",
      "---  ------  --------------  -----\n",
      " 0   Sales   334 non-null    int64\n",
      "dtypes: int64(1)\n",
      "memory usage: 5.2 KB\n",
      "None\n"
     ]
    }
   ],
   "source": [
    "print(sales_data.info())"
   ]
  },
  {
   "cell_type": "code",
   "execution_count": 11,
   "metadata": {
    "execution": {
     "iopub.execute_input": "2024-10-06T11:38:52.984414Z",
     "iopub.status.busy": "2024-10-06T11:38:52.984023Z",
     "iopub.status.idle": "2024-10-06T11:38:52.998018Z",
     "shell.execute_reply": "2024-10-06T11:38:52.997207Z",
     "shell.execute_reply.started": "2024-10-06T11:38:52.984376Z"
    }
   },
   "outputs": [
    {
     "name": "stdout",
     "output_type": "stream",
     "text": [
      "              Sales\n",
      "count    334.000000\n",
      "mean   16325.095808\n",
      "std     5369.839014\n",
      "min     6938.000000\n",
      "25%    12298.500000\n",
      "50%    15878.500000\n",
      "75%    19772.500000\n",
      "max    34706.000000\n"
     ]
    }
   ],
   "source": [
    "print(sales_data.describe())"
   ]
  },
  {
   "cell_type": "code",
   "execution_count": 12,
   "metadata": {
    "execution": {
     "iopub.execute_input": "2024-10-06T11:38:56.144652Z",
     "iopub.status.busy": "2024-10-06T11:38:56.144306Z",
     "iopub.status.idle": "2024-10-06T11:38:56.155095Z",
     "shell.execute_reply": "2024-10-06T11:38:56.154311Z",
     "shell.execute_reply.started": "2024-10-06T11:38:56.144625Z"
    }
   },
   "outputs": [
    {
     "data": {
      "text/html": [
       "<div>\n",
       "<style scoped>\n",
       "    .dataframe tbody tr th:only-of-type {\n",
       "        vertical-align: middle;\n",
       "    }\n",
       "\n",
       "    .dataframe tbody tr th {\n",
       "        vertical-align: top;\n",
       "    }\n",
       "\n",
       "    .dataframe thead th {\n",
       "        text-align: right;\n",
       "    }\n",
       "</style>\n",
       "<table border=\"1\" class=\"dataframe\">\n",
       "  <thead>\n",
       "    <tr style=\"text-align: right;\">\n",
       "      <th></th>\n",
       "      <th>Sales</th>\n",
       "    </tr>\n",
       "    <tr>\n",
       "      <th>DATE</th>\n",
       "      <th></th>\n",
       "    </tr>\n",
       "  </thead>\n",
       "  <tbody>\n",
       "    <tr>\n",
       "      <th>1992-01-01</th>\n",
       "      <td>6938</td>\n",
       "    </tr>\n",
       "    <tr>\n",
       "      <th>1992-02-01</th>\n",
       "      <td>7524</td>\n",
       "    </tr>\n",
       "    <tr>\n",
       "      <th>1992-03-01</th>\n",
       "      <td>8475</td>\n",
       "    </tr>\n",
       "    <tr>\n",
       "      <th>1992-04-01</th>\n",
       "      <td>9401</td>\n",
       "    </tr>\n",
       "    <tr>\n",
       "      <th>1992-05-01</th>\n",
       "      <td>9558</td>\n",
       "    </tr>\n",
       "  </tbody>\n",
       "</table>\n",
       "</div>"
      ],
      "text/plain": [
       "            Sales\n",
       "DATE             \n",
       "1992-01-01   6938\n",
       "1992-02-01   7524\n",
       "1992-03-01   8475\n",
       "1992-04-01   9401\n",
       "1992-05-01   9558"
      ]
     },
     "execution_count": 12,
     "metadata": {},
     "output_type": "execute_result"
    }
   ],
   "source": [
    "sales_data.head()"
   ]
  },
  {
   "cell_type": "code",
   "execution_count": 13,
   "metadata": {
    "execution": {
     "iopub.execute_input": "2024-10-06T11:39:05.510411Z",
     "iopub.status.busy": "2024-10-06T11:39:05.510044Z",
     "iopub.status.idle": "2024-10-06T11:39:05.519137Z",
     "shell.execute_reply": "2024-10-06T11:39:05.518088Z",
     "shell.execute_reply.started": "2024-10-06T11:39:05.510380Z"
    }
   },
   "outputs": [
    {
     "data": {
      "text/html": [
       "<div>\n",
       "<style scoped>\n",
       "    .dataframe tbody tr th:only-of-type {\n",
       "        vertical-align: middle;\n",
       "    }\n",
       "\n",
       "    .dataframe tbody tr th {\n",
       "        vertical-align: top;\n",
       "    }\n",
       "\n",
       "    .dataframe thead th {\n",
       "        text-align: right;\n",
       "    }\n",
       "</style>\n",
       "<table border=\"1\" class=\"dataframe\">\n",
       "  <thead>\n",
       "    <tr style=\"text-align: right;\">\n",
       "      <th></th>\n",
       "      <th>Sales</th>\n",
       "    </tr>\n",
       "    <tr>\n",
       "      <th>DATE</th>\n",
       "      <th></th>\n",
       "    </tr>\n",
       "  </thead>\n",
       "  <tbody>\n",
       "    <tr>\n",
       "      <th>2019-06-01</th>\n",
       "      <td>21123</td>\n",
       "    </tr>\n",
       "    <tr>\n",
       "      <th>2019-07-01</th>\n",
       "      <td>21714</td>\n",
       "    </tr>\n",
       "    <tr>\n",
       "      <th>2019-08-01</th>\n",
       "      <td>23791</td>\n",
       "    </tr>\n",
       "    <tr>\n",
       "      <th>2019-09-01</th>\n",
       "      <td>19695</td>\n",
       "    </tr>\n",
       "    <tr>\n",
       "      <th>2019-10-01</th>\n",
       "      <td>21113</td>\n",
       "    </tr>\n",
       "  </tbody>\n",
       "</table>\n",
       "</div>"
      ],
      "text/plain": [
       "            Sales\n",
       "DATE             \n",
       "2019-06-01  21123\n",
       "2019-07-01  21714\n",
       "2019-08-01  23791\n",
       "2019-09-01  19695\n",
       "2019-10-01  21113"
      ]
     },
     "execution_count": 13,
     "metadata": {},
     "output_type": "execute_result"
    }
   ],
   "source": [
    "sales_data.tail()"
   ]
  },
  {
   "cell_type": "code",
   "execution_count": 14,
   "metadata": {
    "execution": {
     "iopub.execute_input": "2024-10-06T11:41:07.221088Z",
     "iopub.status.busy": "2024-10-06T11:41:07.220709Z",
     "iopub.status.idle": "2024-10-06T11:41:07.527384Z",
     "shell.execute_reply": "2024-10-06T11:41:07.526548Z",
     "shell.execute_reply.started": "2024-10-06T11:41:07.221060Z"
    }
   },
   "outputs": [
    {
     "data": {
      "text/plain": [
       "<AxesSubplot:xlabel='DATE'>"
      ]
     },
     "execution_count": 14,
     "metadata": {},
     "output_type": "execute_result"
    },
    {
     "data": {
      "image/png": "[encoded data removed]",
      "text/plain": [
       "<Figure size 864x576 with 1 Axes>"
      ]
     },
     "metadata": {
      "needs_background": "light"
     },
     "output_type": "display_data"
    }
   ],
   "source": [
    "sales_data.plot(figsize=(12, 8))"
   ]
  },
  {
   "cell_type": "code",
   "execution_count": 15,
   "metadata": {
    "execution": {
     "iopub.execute_input": "2024-10-06T11:41:10.652076Z",
     "iopub.status.busy": "2024-10-06T11:41:10.651720Z",
     "iopub.status.idle": "2024-10-06T11:41:10.657597Z",
     "shell.execute_reply": "2024-10-06T11:41:10.656633Z",
     "shell.execute_reply.started": "2024-10-06T11:41:10.652047Z"
    }
   },
   "outputs": [
    {
     "data": {
      "text/plain": [
       "334"
      ]
     },
     "execution_count": 15,
     "metadata": {},
     "output_type": "execute_result"
    }
   ],
   "source": [
    "len(sales_data)"
   ]
  },
  {
   "cell_type": "code",
   "execution_count": 16,
   "metadata": {
    "execution": {
     "iopub.execute_input": "2024-10-06T11:41:12.724466Z",
     "iopub.status.busy": "2024-10-06T11:41:12.724087Z",
     "iopub.status.idle": "2024-10-06T11:41:12.729531Z",
     "shell.execute_reply": "2024-10-06T11:41:12.728714Z",
     "shell.execute_reply.started": "2024-10-06T11:41:12.724432Z"
    }
   },
   "outputs": [
    {
     "data": {
      "text/plain": [
       "316"
      ]
     },
     "execution_count": 16,
     "metadata": {},
     "output_type": "execute_result"
    }
   ],
   "source": [
    "len(sales_data) - 18    # 1.5 year"
   ]
  },
  {
   "cell_type": "code",
   "execution_count": 17,
   "metadata": {
    "execution": {
     "iopub.execute_input": "2024-10-06T11:41:13.474845Z",
     "iopub.status.busy": "2024-10-06T11:41:13.474510Z",
     "iopub.status.idle": "2024-10-06T11:41:13.478838Z",
     "shell.execute_reply": "2024-10-06T11:41:13.477917Z",
     "shell.execute_reply.started": "2024-10-06T11:41:13.474817Z"
    }
   },
   "outputs": [],
   "source": [
    "test_size = 18\n",
    "test_index = len(sales_data) - test_size"
   ]
  },
  {
   "cell_type": "code",
   "execution_count": 18,
   "metadata": {
    "execution": {
     "iopub.execute_input": "2024-10-06T11:41:25.201967Z",
     "iopub.status.busy": "2024-10-06T11:41:25.201618Z",
     "iopub.status.idle": "2024-10-06T11:41:25.206938Z",
     "shell.execute_reply": "2024-10-06T11:41:25.206175Z",
     "shell.execute_reply.started": "2024-10-06T11:41:25.201937Z"
    }
   },
   "outputs": [
    {
     "data": {
      "text/plain": [
       "316"
      ]
     },
     "execution_count": 18,
     "metadata": {},
     "output_type": "execute_result"
    }
   ],
   "source": [
    "test_index"
   ]
  },
  {
   "cell_type": "code",
   "execution_count": 19,
   "metadata": {
    "execution": {
     "iopub.execute_input": "2024-10-06T11:41:27.970529Z",
     "iopub.status.busy": "2024-10-06T11:41:27.970073Z",
     "iopub.status.idle": "2024-10-06T11:41:27.975675Z",
     "shell.execute_reply": "2024-10-06T11:41:27.974573Z",
     "shell.execute_reply.started": "2024-10-06T11:41:27.970489Z"
    }
   },
   "outputs": [],
   "source": [
    "train = sales_data.iloc[:test_index]\n",
    "test = sales_data.iloc[test_index:]"
   ]
  },
  {
   "cell_type": "code",
   "execution_count": 20,
   "metadata": {
    "execution": {
     "iopub.execute_input": "2024-10-06T11:41:30.865544Z",
     "iopub.status.busy": "2024-10-06T11:41:30.865197Z",
     "iopub.status.idle": "2024-10-06T11:41:30.874132Z",
     "shell.execute_reply": "2024-10-06T11:41:30.873314Z",
     "shell.execute_reply.started": "2024-10-06T11:41:30.865516Z"
    }
   },
   "outputs": [
    {
     "data": {
      "text/html": [
       "<div>\n",
       "<style scoped>\n",
       "    .dataframe tbody tr th:only-of-type {\n",
       "        vertical-align: middle;\n",
       "    }\n",
       "\n",
       "    .dataframe tbody tr th {\n",
       "        vertical-align: top;\n",
       "    }\n",
       "\n",
       "    .dataframe thead th {\n",
       "        text-align: right;\n",
       "    }\n",
       "</style>\n",
       "<table border=\"1\" class=\"dataframe\">\n",
       "  <thead>\n",
       "    <tr style=\"text-align: right;\">\n",
       "      <th></th>\n",
       "      <th>Sales</th>\n",
       "    </tr>\n",
       "    <tr>\n",
       "      <th>DATE</th>\n",
       "      <th></th>\n",
       "    </tr>\n",
       "  </thead>\n",
       "  <tbody>\n",
       "    <tr>\n",
       "      <th>1992-01-01</th>\n",
       "      <td>6938</td>\n",
       "    </tr>\n",
       "    <tr>\n",
       "      <th>1992-02-01</th>\n",
       "      <td>7524</td>\n",
       "    </tr>\n",
       "    <tr>\n",
       "      <th>1992-03-01</th>\n",
       "      <td>8475</td>\n",
       "    </tr>\n",
       "    <tr>\n",
       "      <th>1992-04-01</th>\n",
       "      <td>9401</td>\n",
       "    </tr>\n",
       "    <tr>\n",
       "      <th>1992-05-01</th>\n",
       "      <td>9558</td>\n",
       "    </tr>\n",
       "  </tbody>\n",
       "</table>\n",
       "</div>"
      ],
      "text/plain": [
       "            Sales\n",
       "DATE             \n",
       "1992-01-01   6938\n",
       "1992-02-01   7524\n",
       "1992-03-01   8475\n",
       "1992-04-01   9401\n",
       "1992-05-01   9558"
      ]
     },
     "execution_count": 20,
     "metadata": {},
     "output_type": "execute_result"
    }
   ],
   "source": [
    "train.head()"
   ]
  },
  {
   "cell_type": "code",
   "execution_count": 21,
   "metadata": {
    "execution": {
     "iopub.execute_input": "2024-10-06T11:41:38.231135Z",
     "iopub.status.busy": "2024-10-06T11:41:38.230794Z",
     "iopub.status.idle": "2024-10-06T11:41:38.240166Z",
     "shell.execute_reply": "2024-10-06T11:41:38.239215Z",
     "shell.execute_reply.started": "2024-10-06T11:41:38.231107Z"
    }
   },
   "outputs": [
    {
     "data": {
      "text/html": [
       "<div>\n",
       "<style scoped>\n",
       "    .dataframe tbody tr th:only-of-type {\n",
       "        vertical-align: middle;\n",
       "    }\n",
       "\n",
       "    .dataframe tbody tr th {\n",
       "        vertical-align: top;\n",
       "    }\n",
       "\n",
       "    .dataframe thead th {\n",
       "        text-align: right;\n",
       "    }\n",
       "</style>\n",
       "<table border=\"1\" class=\"dataframe\">\n",
       "  <thead>\n",
       "    <tr style=\"text-align: right;\">\n",
       "      <th></th>\n",
       "      <th>Sales</th>\n",
       "    </tr>\n",
       "    <tr>\n",
       "      <th>DATE</th>\n",
       "      <th></th>\n",
       "    </tr>\n",
       "  </thead>\n",
       "  <tbody>\n",
       "    <tr>\n",
       "      <th>2017-12-01</th>\n",
       "      <td>33720</td>\n",
       "    </tr>\n",
       "    <tr>\n",
       "      <th>2018-01-01</th>\n",
       "      <td>15881</td>\n",
       "    </tr>\n",
       "    <tr>\n",
       "      <th>2018-02-01</th>\n",
       "      <td>18585</td>\n",
       "    </tr>\n",
       "    <tr>\n",
       "      <th>2018-03-01</th>\n",
       "      <td>22404</td>\n",
       "    </tr>\n",
       "    <tr>\n",
       "      <th>2018-04-01</th>\n",
       "      <td>20616</td>\n",
       "    </tr>\n",
       "  </tbody>\n",
       "</table>\n",
       "</div>"
      ],
      "text/plain": [
       "            Sales\n",
       "DATE             \n",
       "2017-12-01  33720\n",
       "2018-01-01  15881\n",
       "2018-02-01  18585\n",
       "2018-03-01  22404\n",
       "2018-04-01  20616"
      ]
     },
     "execution_count": 21,
     "metadata": {},
     "output_type": "execute_result"
    }
   ],
   "source": [
    "train.tail()"
   ]
  },
  {
   "cell_type": "code",
   "execution_count": 22,
   "metadata": {
    "execution": {
     "iopub.execute_input": "2024-10-06T11:41:38.420337Z",
     "iopub.status.busy": "2024-10-06T11:41:38.420019Z",
     "iopub.status.idle": "2024-10-06T11:41:38.428874Z",
     "shell.execute_reply": "2024-10-06T11:41:38.427880Z",
     "shell.execute_reply.started": "2024-10-06T11:41:38.420307Z"
    }
   },
   "outputs": [
    {
     "data": {
      "text/html": [
       "<div>\n",
       "<style scoped>\n",
       "    .dataframe tbody tr th:only-of-type {\n",
       "        vertical-align: middle;\n",
       "    }\n",
       "\n",
       "    .dataframe tbody tr th {\n",
       "        vertical-align: top;\n",
       "    }\n",
       "\n",
       "    .dataframe thead th {\n",
       "        text-align: right;\n",
       "    }\n",
       "</style>\n",
       "<table border=\"1\" class=\"dataframe\">\n",
       "  <thead>\n",
       "    <tr style=\"text-align: right;\">\n",
       "      <th></th>\n",
       "      <th>Sales</th>\n",
       "    </tr>\n",
       "    <tr>\n",
       "      <th>DATE</th>\n",
       "      <th></th>\n",
       "    </tr>\n",
       "  </thead>\n",
       "  <tbody>\n",
       "    <tr>\n",
       "      <th>2018-05-01</th>\n",
       "      <td>23764</td>\n",
       "    </tr>\n",
       "    <tr>\n",
       "      <th>2018-06-01</th>\n",
       "      <td>21589</td>\n",
       "    </tr>\n",
       "    <tr>\n",
       "      <th>2018-07-01</th>\n",
       "      <td>21919</td>\n",
       "    </tr>\n",
       "    <tr>\n",
       "      <th>2018-08-01</th>\n",
       "      <td>23381</td>\n",
       "    </tr>\n",
       "    <tr>\n",
       "      <th>2018-09-01</th>\n",
       "      <td>20260</td>\n",
       "    </tr>\n",
       "  </tbody>\n",
       "</table>\n",
       "</div>"
      ],
      "text/plain": [
       "            Sales\n",
       "DATE             \n",
       "2018-05-01  23764\n",
       "2018-06-01  21589\n",
       "2018-07-01  21919\n",
       "2018-08-01  23381\n",
       "2018-09-01  20260"
      ]
     },
     "execution_count": 22,
     "metadata": {},
     "output_type": "execute_result"
    }
   ],
   "source": [
    "test.head()"
   ]
  },
  {
   "cell_type": "code",
   "execution_count": 23,
   "metadata": {
    "execution": {
     "iopub.execute_input": "2024-10-06T11:41:38.574324Z",
     "iopub.status.busy": "2024-10-06T11:41:38.573978Z",
     "iopub.status.idle": "2024-10-06T11:41:38.582805Z",
     "shell.execute_reply": "2024-10-06T11:41:38.581948Z",
     "shell.execute_reply.started": "2024-10-06T11:41:38.574293Z"
    }
   },
   "outputs": [
    {
     "data": {
      "text/html": [
       "<div>\n",
       "<style scoped>\n",
       "    .dataframe tbody tr th:only-of-type {\n",
       "        vertical-align: middle;\n",
       "    }\n",
       "\n",
       "    .dataframe tbody tr th {\n",
       "        vertical-align: top;\n",
       "    }\n",
       "\n",
       "    .dataframe thead th {\n",
       "        text-align: right;\n",
       "    }\n",
       "</style>\n",
       "<table border=\"1\" class=\"dataframe\">\n",
       "  <thead>\n",
       "    <tr style=\"text-align: right;\">\n",
       "      <th></th>\n",
       "      <th>Sales</th>\n",
       "    </tr>\n",
       "    <tr>\n",
       "      <th>DATE</th>\n",
       "      <th></th>\n",
       "    </tr>\n",
       "  </thead>\n",
       "  <tbody>\n",
       "    <tr>\n",
       "      <th>2019-06-01</th>\n",
       "      <td>21123</td>\n",
       "    </tr>\n",
       "    <tr>\n",
       "      <th>2019-07-01</th>\n",
       "      <td>21714</td>\n",
       "    </tr>\n",
       "    <tr>\n",
       "      <th>2019-08-01</th>\n",
       "      <td>23791</td>\n",
       "    </tr>\n",
       "    <tr>\n",
       "      <th>2019-09-01</th>\n",
       "      <td>19695</td>\n",
       "    </tr>\n",
       "    <tr>\n",
       "      <th>2019-10-01</th>\n",
       "      <td>21113</td>\n",
       "    </tr>\n",
       "  </tbody>\n",
       "</table>\n",
       "</div>"
      ],
      "text/plain": [
       "            Sales\n",
       "DATE             \n",
       "2019-06-01  21123\n",
       "2019-07-01  21714\n",
       "2019-08-01  23791\n",
       "2019-09-01  19695\n",
       "2019-10-01  21113"
      ]
     },
     "execution_count": 23,
     "metadata": {},
     "output_type": "execute_result"
    }
   ],
   "source": [
    "test.tail()"
   ]
  },
  {
   "cell_type": "code",
   "execution_count": 24,
   "metadata": {
    "execution": {
     "iopub.execute_input": "2024-10-06T11:41:46.197214Z",
     "iopub.status.busy": "2024-10-06T11:41:46.196855Z",
     "iopub.status.idle": "2024-10-06T11:41:46.200948Z",
     "shell.execute_reply": "2024-10-06T11:41:46.200034Z",
     "shell.execute_reply.started": "2024-10-06T11:41:46.197179Z"
    }
   },
   "outputs": [],
   "source": [
    "# help(MinMaxScaler)"
   ]
  },
  {
   "cell_type": "code",
   "execution_count": 25,
   "metadata": {
    "execution": {
     "iopub.execute_input": "2024-10-06T11:41:46.421665Z",
     "iopub.status.busy": "2024-10-06T11:41:46.421319Z",
     "iopub.status.idle": "2024-10-06T11:41:46.425302Z",
     "shell.execute_reply": "2024-10-06T11:41:46.424332Z",
     "shell.execute_reply.started": "2024-10-06T11:41:46.421629Z"
    }
   },
   "outputs": [],
   "source": [
    "scaler = MinMaxScaler()"
   ]
  },
  {
   "cell_type": "code",
   "execution_count": 26,
   "metadata": {
    "execution": {
     "iopub.execute_input": "2024-10-06T11:41:46.739331Z",
     "iopub.status.busy": "2024-10-06T11:41:46.738959Z",
     "iopub.status.idle": "2024-10-06T11:41:46.748406Z",
     "shell.execute_reply": "2024-10-06T11:41:46.747663Z",
     "shell.execute_reply.started": "2024-10-06T11:41:46.739295Z"
    }
   },
   "outputs": [
    {
     "data": {
      "text/plain": [
       "MinMaxScaler()"
      ]
     },
     "execution_count": 26,
     "metadata": {},
     "output_type": "execute_result"
    }
   ],
   "source": [
    "scaler.fit(train)"
   ]
  },
  {
   "cell_type": "code",
   "execution_count": 27,
   "metadata": {
    "execution": {
     "iopub.execute_input": "2024-10-06T11:41:47.056470Z",
     "iopub.status.busy": "2024-10-06T11:41:47.056123Z",
     "iopub.status.idle": "2024-10-06T11:41:47.063907Z",
     "shell.execute_reply": "2024-10-06T11:41:47.062854Z",
     "shell.execute_reply.started": "2024-10-06T11:41:47.056441Z"
    }
   },
   "outputs": [],
   "source": [
    "scaled_train = scaler.transform(train)\n",
    "scaled_test = scaler.transform(test)"
   ]
  },
  {
   "cell_type": "code",
   "execution_count": 28,
   "metadata": {
    "execution": {
     "iopub.execute_input": "2024-10-06T11:41:47.400044Z",
     "iopub.status.busy": "2024-10-06T11:41:47.399709Z",
     "iopub.status.idle": "2024-10-06T11:41:47.405969Z",
     "shell.execute_reply": "2024-10-06T11:41:47.405057Z",
     "shell.execute_reply.started": "2024-10-06T11:41:47.400016Z"
    }
   },
   "outputs": [
    {
     "data": {
      "text/plain": [
       "array([[0.        ],\n",
       "       [0.02127505],\n",
       "       [0.05580163],\n",
       "       [0.08942056],\n",
       "       [0.09512053]])"
      ]
     },
     "execution_count": 28,
     "metadata": {},
     "output_type": "execute_result"
    }
   ],
   "source": [
    "scaled_train[:5]"
   ]
  },
  {
   "cell_type": "code",
   "execution_count": 29,
   "metadata": {
    "execution": {
     "iopub.execute_input": "2024-10-06T11:41:58.589575Z",
     "iopub.status.busy": "2024-10-06T11:41:58.589195Z",
     "iopub.status.idle": "2024-10-06T11:41:58.595239Z",
     "shell.execute_reply": "2024-10-06T11:41:58.594461Z",
     "shell.execute_reply.started": "2024-10-06T11:41:58.589538Z"
    }
   },
   "outputs": [
    {
     "data": {
      "text/plain": [
       "array([[0.61087714],\n",
       "       [0.53191258],\n",
       "       [0.54389341],\n",
       "       [0.59697212],\n",
       "       [0.4836625 ]])"
      ]
     },
     "execution_count": 29,
     "metadata": {},
     "output_type": "execute_result"
    }
   ],
   "source": [
    "scaled_test[:5]"
   ]
  },
  {
   "cell_type": "code",
   "execution_count": 30,
   "metadata": {
    "execution": {
     "iopub.execute_input": "2024-10-06T11:41:59.195147Z",
     "iopub.status.busy": "2024-10-06T11:41:59.194788Z",
     "iopub.status.idle": "2024-10-06T11:41:59.198558Z",
     "shell.execute_reply": "2024-10-06T11:41:59.197613Z",
     "shell.execute_reply.started": "2024-10-06T11:41:59.195112Z"
    }
   },
   "outputs": [],
   "source": [
    "# help(TimeseriesGenerator)"
   ]
  },
  {
   "cell_type": "code",
   "execution_count": 31,
   "metadata": {
    "execution": {
     "iopub.execute_input": "2024-10-06T11:42:02.687695Z",
     "iopub.status.busy": "2024-10-06T11:42:02.687300Z",
     "iopub.status.idle": "2024-10-06T11:42:02.691954Z",
     "shell.execute_reply": "2024-10-06T11:42:02.690819Z",
     "shell.execute_reply.started": "2024-10-06T11:42:02.687664Z"
    }
   },
   "outputs": [],
   "source": [
    "length = 12"
   ]
  },
  {
   "cell_type": "code",
   "execution_count": 32,
   "metadata": {
    "execution": {
     "iopub.execute_input": "2024-10-06T11:42:03.262013Z",
     "iopub.status.busy": "2024-10-06T11:42:03.261642Z",
     "iopub.status.idle": "2024-10-06T11:42:03.266018Z",
     "shell.execute_reply": "2024-10-06T11:42:03.265136Z",
     "shell.execute_reply.started": "2024-10-06T11:42:03.261978Z"
    }
   },
   "outputs": [],
   "source": [
    "generator = TimeseriesGenerator(scaled_train, scaled_train, length=length, batch_size=1)"
   ]
  },
  {
   "cell_type": "code",
   "execution_count": 33,
   "metadata": {
    "execution": {
     "iopub.execute_input": "2024-10-06T11:42:04.687306Z",
     "iopub.status.busy": "2024-10-06T11:42:04.686954Z",
     "iopub.status.idle": "2024-10-06T11:42:04.691340Z",
     "shell.execute_reply": "2024-10-06T11:42:04.690459Z",
     "shell.execute_reply.started": "2024-10-06T11:42:04.687276Z"
    }
   },
   "outputs": [],
   "source": [
    "X, y = generator[0]"
   ]
  },
  {
   "cell_type": "code",
   "execution_count": 34,
   "metadata": {
    "execution": {
     "iopub.execute_input": "2024-10-06T11:42:05.637512Z",
     "iopub.status.busy": "2024-10-06T11:42:05.637146Z",
     "iopub.status.idle": "2024-10-06T11:42:05.643162Z",
     "shell.execute_reply": "2024-10-06T11:42:05.642285Z",
     "shell.execute_reply.started": "2024-10-06T11:42:05.637481Z"
    }
   },
   "outputs": [
    {
     "data": {
      "text/plain": [
       "array([[[0.        ],\n",
       "        [0.02127505],\n",
       "        [0.05580163],\n",
       "        [0.08942056],\n",
       "        [0.09512053],\n",
       "        [0.08146965],\n",
       "        [0.07860151],\n",
       "        [0.12979233],\n",
       "        [0.09566512],\n",
       "        [0.1203892 ],\n",
       "        [0.15426227],\n",
       "        [0.41595266]]])"
      ]
     },
     "execution_count": 34,
     "metadata": {},
     "output_type": "execute_result"
    }
   ],
   "source": [
    "X"
   ]
  },
  {
   "cell_type": "code",
   "execution_count": 35,
   "metadata": {
    "execution": {
     "iopub.execute_input": "2024-10-06T11:42:10.548347Z",
     "iopub.status.busy": "2024-10-06T11:42:10.547963Z",
     "iopub.status.idle": "2024-10-06T11:42:10.553859Z",
     "shell.execute_reply": "2024-10-06T11:42:10.552874Z",
     "shell.execute_reply.started": "2024-10-06T11:42:10.548298Z"
    }
   },
   "outputs": [
    {
     "data": {
      "text/plain": [
       "array([[0.02047633]])"
      ]
     },
     "execution_count": 35,
     "metadata": {},
     "output_type": "execute_result"
    }
   ],
   "source": [
    "y"
   ]
  },
  {
   "cell_type": "code",
   "execution_count": 36,
   "metadata": {
    "execution": {
     "iopub.execute_input": "2024-10-06T11:42:11.774694Z",
     "iopub.status.busy": "2024-10-06T11:42:11.774286Z",
     "iopub.status.idle": "2024-10-06T11:42:11.780121Z",
     "shell.execute_reply": "2024-10-06T11:42:11.779345Z",
     "shell.execute_reply.started": "2024-10-06T11:42:11.774659Z"
    }
   },
   "outputs": [
    {
     "data": {
      "text/plain": [
       "12"
      ]
     },
     "execution_count": 36,
     "metadata": {},
     "output_type": "execute_result"
    }
   ],
   "source": [
    "len(X[0])"
   ]
  },
  {
   "cell_type": "code",
   "execution_count": 37,
   "metadata": {
    "execution": {
     "iopub.execute_input": "2024-10-06T11:42:12.337276Z",
     "iopub.status.busy": "2024-10-06T11:42:12.336900Z",
     "iopub.status.idle": "2024-10-06T11:42:12.340783Z",
     "shell.execute_reply": "2024-10-06T11:42:12.339779Z",
     "shell.execute_reply.started": "2024-10-06T11:42:12.337238Z"
    }
   },
   "outputs": [],
   "source": [
    "# help(LSTM)"
   ]
  },
  {
   "cell_type": "code",
   "execution_count": 38,
   "metadata": {
    "execution": {
     "iopub.execute_input": "2024-10-06T11:42:13.066736Z",
     "iopub.status.busy": "2024-10-06T11:42:13.066353Z",
     "iopub.status.idle": "2024-10-06T11:42:13.070444Z",
     "shell.execute_reply": "2024-10-06T11:42:13.069518Z",
     "shell.execute_reply.started": "2024-10-06T11:42:13.066701Z"
    }
   },
   "outputs": [],
   "source": [
    "n_features = 1"
   ]
  },
  {
   "cell_type": "code",
   "execution_count": 81,
   "metadata": {
    "execution": {
     "iopub.execute_input": "2024-10-06T11:47:01.785114Z",
     "iopub.status.busy": "2024-10-06T11:47:01.784760Z",
     "iopub.status.idle": "2024-10-06T11:47:01.946324Z",
     "shell.execute_reply": "2024-10-06T11:47:01.945350Z",
     "shell.execute_reply.started": "2024-10-06T11:47:01.785085Z"
    }
   },
   "outputs": [
    {
     "name": "stdout",
     "output_type": "stream",
     "text": [
      "Model: \"sequential_4\"\n",
      "_________________________________________________________________\n",
      "Layer (type)                 Output Shape              Param #   \n",
      "=================================================================\n",
      "lstm_6 (LSTM)                (None, 12, 128)           66560     \n",
      "_________________________________________________________________\n",
      "dropout_4 (Dropout)          (None, 12, 128)           0         \n",
      "_________________________________________________________________\n",
      "lstm_7 (LSTM)                (None, 64)                49408     \n",
      "_________________________________________________________________\n",
      "dropout_5 (Dropout)          (None, 64)                0         \n",
      "_________________________________________________________________\n",
      "dense_4 (Dense)              (None, 1)                 65        \n",
      "=================================================================\n",
      "Total params: 116,033\n",
      "Trainable params: 116,033\n",
      "Non-trainable params: 0\n",
      "_________________________________________________________________\n"
     ]
    }
   ],
   "source": [
    "from keras.models import Sequential\n",
    "from keras.layers import LSTM, Dense, Dropout, BatchNormalization\n",
    "from keras.optimizers import Adam\n",
    "\n",
    "model = Sequential()\n",
    "# First LSTM layer with Dropout and BatchNormalization\n",
    "model.add(LSTM(128, activation='relu', return_sequences=True, input_shape=(length, n_features)))\n",
    "model.add(Dropout(0.3))\n",
    "\n",
    "\n",
    "# Second LSTM layer with Dropout\n",
    "model.add(LSTM(64, activation='relu'))\n",
    "model.add(Dropout(0.3))\n",
    "\n",
    "# Output layer\n",
    "model.add(Dense(1))  # For regression tasks\n",
    "\n",
    "# Compile the model with Adam optimizer and a smaller learning rate\n",
    "optimizer = Adam(learning_rate=0.001)\n",
    "model.compile(optimizer=optimizer, loss='mse')\n",
    "\n",
    "# Model summary for verification\n",
    "model.summary()\n"
   ]
  },
  {
   "cell_type": "code",
   "execution_count": 82,
   "metadata": {
    "execution": {
     "iopub.execute_input": "2024-10-06T11:47:03.012491Z",
     "iopub.status.busy": "2024-10-06T11:47:03.012032Z",
     "iopub.status.idle": "2024-10-06T11:47:03.022420Z",
     "shell.execute_reply": "2024-10-06T11:47:03.021565Z",
     "shell.execute_reply.started": "2024-10-06T11:47:03.012448Z"
    }
   },
   "outputs": [
    {
     "name": "stdout",
     "output_type": "stream",
     "text": [
      "Model: \"sequential_4\"\n",
      "_________________________________________________________________\n",
      "Layer (type)                 Output Shape              Param #   \n",
      "=================================================================\n",
      "lstm_6 (LSTM)                (None, 12, 128)           66560     \n",
      "_________________________________________________________________\n",
      "dropout_4 (Dropout)          (None, 12, 128)           0         \n",
      "_________________________________________________________________\n",
      "lstm_7 (LSTM)                (None, 64)                49408     \n",
      "_________________________________________________________________\n",
      "dropout_5 (Dropout)          (None, 64)                0         \n",
      "_________________________________________________________________\n",
      "dense_4 (Dense)              (None, 1)                 65        \n",
      "=================================================================\n",
      "Total params: 116,033\n",
      "Trainable params: 116,033\n",
      "Non-trainable params: 0\n",
      "_________________________________________________________________\n"
     ]
    }
   ],
   "source": [
    "model.summary()"
   ]
  },
  {
   "cell_type": "code",
   "execution_count": 83,
   "metadata": {
    "execution": {
     "iopub.execute_input": "2024-10-06T11:47:03.438563Z",
     "iopub.status.busy": "2024-10-06T11:47:03.438108Z",
     "iopub.status.idle": "2024-10-06T11:47:03.442813Z",
     "shell.execute_reply": "2024-10-06T11:47:03.441636Z",
     "shell.execute_reply.started": "2024-10-06T11:47:03.438522Z"
    }
   },
   "outputs": [],
   "source": [
    "# help(EarlyStopping)"
   ]
  },
  {
   "cell_type": "code",
   "execution_count": 84,
   "metadata": {
    "execution": {
     "iopub.execute_input": "2024-10-06T11:47:03.868030Z",
     "iopub.status.busy": "2024-10-06T11:47:03.867721Z",
     "iopub.status.idle": "2024-10-06T11:47:03.872442Z",
     "shell.execute_reply": "2024-10-06T11:47:03.871326Z",
     "shell.execute_reply.started": "2024-10-06T11:47:03.868003Z"
    }
   },
   "outputs": [],
   "source": [
    "early_stop = EarlyStopping(monitor='val_loss', patience=2)"
   ]
  },
  {
   "cell_type": "code",
   "execution_count": 85,
   "metadata": {
    "execution": {
     "iopub.execute_input": "2024-10-06T11:47:04.377801Z",
     "iopub.status.busy": "2024-10-06T11:47:04.377465Z",
     "iopub.status.idle": "2024-10-06T11:47:04.381785Z",
     "shell.execute_reply": "2024-10-06T11:47:04.380851Z",
     "shell.execute_reply.started": "2024-10-06T11:47:04.377773Z"
    }
   },
   "outputs": [],
   "source": [
    "validation_generator = TimeseriesGenerator(scaled_test, scaled_test, length=length, batch_size=1)"
   ]
  },
  {
   "cell_type": "code",
   "execution_count": 86,
   "metadata": {
    "execution": {
     "iopub.execute_input": "2024-10-06T11:47:06.374455Z",
     "iopub.status.busy": "2024-10-06T11:47:06.373948Z",
     "iopub.status.idle": "2024-10-06T11:48:48.694146Z",
     "shell.execute_reply": "2024-10-06T11:48:48.693393Z",
     "shell.execute_reply.started": "2024-10-06T11:47:06.374421Z"
    }
   },
   "outputs": [
    {
     "name": "stdout",
     "output_type": "stream",
     "text": [
      "Epoch 1/20\n",
      "322/322 [==============================] - 12s 32ms/step - loss: 0.0364 - val_loss: 0.0038\n",
      "Epoch 2/20\n",
      "322/322 [==============================] - 10s 31ms/step - loss: 0.0206 - val_loss: 0.0036\n",
      "Epoch 3/20\n",
      "322/322 [==============================] - 10s 32ms/step - loss: 0.0133 - val_loss: 7.6729e-04\n",
      "Epoch 4/20\n",
      "322/322 [==============================] - 10s 31ms/step - loss: 0.0085 - val_loss: 0.0021\n",
      "Epoch 5/20\n",
      "322/322 [==============================] - 10s 31ms/step - loss: 0.0051 - val_loss: 4.0616e-04\n",
      "Epoch 6/20\n",
      "322/322 [==============================] - 10s 32ms/step - loss: 0.0069 - val_loss: 0.0174\n",
      "Epoch 7/20\n",
      "322/322 [==============================] - 10s 31ms/step - loss: 0.0117 - val_loss: 3.3967e-04\n",
      "Epoch 8/20\n",
      "322/322 [==============================] - 10s 31ms/step - loss: 0.0032 - val_loss: 2.4422e-04\n",
      "Epoch 9/20\n",
      "322/322 [==============================] - 10s 31ms/step - loss: 0.0025 - val_loss: 8.8511e-04\n",
      "Epoch 10/20\n",
      "322/322 [==============================] - 10s 31ms/step - loss: 0.0049 - val_loss: 0.0014\n"
     ]
    },
    {
     "data": {
      "text/plain": [
       "<tensorflow.python.keras.callbacks.History at 0x7a83503c0790>"
      ]
     },
     "execution_count": 86,
     "metadata": {},
     "output_type": "execute_result"
    }
   ],
   "source": [
    "model.fit(generator, epochs=20, \n",
    "          validation_data=validation_generator,\n",
    "          callbacks=[early_stop])"
   ]
  },
  {
   "cell_type": "code",
   "execution_count": 87,
   "metadata": {
    "execution": {
     "iopub.execute_input": "2024-10-06T11:49:06.906696Z",
     "iopub.status.busy": "2024-10-06T11:49:06.906315Z",
     "iopub.status.idle": "2024-10-06T11:49:06.911241Z",
     "shell.execute_reply": "2024-10-06T11:49:06.910462Z",
     "shell.execute_reply.started": "2024-10-06T11:49:06.906661Z"
    }
   },
   "outputs": [],
   "source": [
    "losses = pd.DataFrame(model.history.history)"
   ]
  },
  {
   "cell_type": "code",
   "execution_count": 88,
   "metadata": {
    "execution": {
     "iopub.execute_input": "2024-10-06T11:49:07.187159Z",
     "iopub.status.busy": "2024-10-06T11:49:07.186831Z",
     "iopub.status.idle": "2024-10-06T11:49:07.350400Z",
     "shell.execute_reply": "2024-10-06T11:49:07.349335Z",
     "shell.execute_reply.started": "2024-10-06T11:49:07.187128Z"
    }
   },
   "outputs": [
    {
     "data": {
      "text/plain": [
       "<AxesSubplot:>"
      ]
     },
     "execution_count": 88,
     "metadata": {},
     "output_type": "execute_result"
    },
    {
     "data": {
      "image/png": "[encoded data removed]",
      "text/plain": [
       "<Figure size 432x288 with 1 Axes>"
      ]
     },
     "metadata": {
      "needs_background": "light"
     },
     "output_type": "display_data"
    }
   ],
   "source": [
    "losses.plot()"
   ]
  },
  {
   "cell_type": "code",
   "execution_count": 89,
   "metadata": {
    "execution": {
     "iopub.execute_input": "2024-10-06T11:49:14.360621Z",
     "iopub.status.busy": "2024-10-06T11:49:14.360268Z",
     "iopub.status.idle": "2024-10-06T11:49:15.206367Z",
     "shell.execute_reply": "2024-10-06T11:49:15.205506Z",
     "shell.execute_reply.started": "2024-10-06T11:49:14.360593Z"
    }
   },
   "outputs": [],
   "source": [
    "test_predictions = []\n",
    "\n",
    "first_eval_batch = scaled_train[-length:]\n",
    "current_batch = first_eval_batch.reshape((1, length, n_features))\n",
    "\n",
    "for i in range(len(test)):\n",
    "    \n",
    "    # get prediction 1 time  stamp ahead \n",
    "    current_pred = model.predict(current_batch)[0]\n",
    "    \n",
    "    # store prediction \n",
    "    test_predictions.append(current_pred)\n",
    "    \n",
    "    # update batch to now include prediction and drop first value \n",
    "    current_batch = np.append(current_batch[:, 1:, :], [[current_pred]], axis=1)"
   ]
  },
  {
   "cell_type": "code",
   "execution_count": 90,
   "metadata": {
    "execution": {
     "iopub.execute_input": "2024-10-06T11:49:15.208619Z",
     "iopub.status.busy": "2024-10-06T11:49:15.208222Z",
     "iopub.status.idle": "2024-10-06T11:49:15.213097Z",
     "shell.execute_reply": "2024-10-06T11:49:15.212283Z",
     "shell.execute_reply.started": "2024-10-06T11:49:15.208581Z"
    }
   },
   "outputs": [],
   "source": [
    "true_prediction = scaler.inverse_transform(test_predictions)"
   ]
  },
  {
   "cell_type": "code",
   "execution_count": 91,
   "metadata": {
    "execution": {
     "iopub.execute_input": "2024-10-06T11:49:15.215061Z",
     "iopub.status.busy": "2024-10-06T11:49:15.214699Z",
     "iopub.status.idle": "2024-10-06T11:49:15.223934Z",
     "shell.execute_reply": "2024-10-06T11:49:15.223117Z",
     "shell.execute_reply.started": "2024-10-06T11:49:15.215024Z"
    }
   },
   "outputs": [
    {
     "name": "stderr",
     "output_type": "stream",
     "text": [
      "/opt/conda/lib/python3.7/site-packages/ipykernel_launcher.py:1: SettingWithCopyWarning: \n",
      "A value is trying to be set on a copy of a slice from a DataFrame.\n",
      "Try using .loc[row_indexer,col_indexer] = value instead\n",
      "\n",
      "See the caveats in the documentation: https://pandas.pydata.org/pandas-docs/stable/user_guide/indexing.html#returning-a-view-versus-a-copy\n",
      "  \"\"\"Entry point for launching an IPython kernel.\n"
     ]
    }
   ],
   "source": [
    "test['Predictions'] = true_prediction"
   ]
  },
  {
   "cell_type": "code",
   "execution_count": 92,
   "metadata": {
    "execution": {
     "iopub.execute_input": "2024-10-06T11:49:15.423302Z",
     "iopub.status.busy": "2024-10-06T11:49:15.423004Z",
     "iopub.status.idle": "2024-10-06T11:49:15.434209Z",
     "shell.execute_reply": "2024-10-06T11:49:15.433178Z",
     "shell.execute_reply.started": "2024-10-06T11:49:15.423273Z"
    }
   },
   "outputs": [
    {
     "data": {
      "text/html": [
       "<div>\n",
       "<style scoped>\n",
       "    .dataframe tbody tr th:only-of-type {\n",
       "        vertical-align: middle;\n",
       "    }\n",
       "\n",
       "    .dataframe tbody tr th {\n",
       "        vertical-align: top;\n",
       "    }\n",
       "\n",
       "    .dataframe thead th {\n",
       "        text-align: right;\n",
       "    }\n",
       "</style>\n",
       "<table border=\"1\" class=\"dataframe\">\n",
       "  <thead>\n",
       "    <tr style=\"text-align: right;\">\n",
       "      <th></th>\n",
       "      <th>Sales</th>\n",
       "      <th>Predictions</th>\n",
       "    </tr>\n",
       "    <tr>\n",
       "      <th>DATE</th>\n",
       "      <th></th>\n",
       "      <th></th>\n",
       "    </tr>\n",
       "  </thead>\n",
       "  <tbody>\n",
       "    <tr>\n",
       "      <th>2018-05-01</th>\n",
       "      <td>23764</td>\n",
       "      <td>22284.356484</td>\n",
       "    </tr>\n",
       "    <tr>\n",
       "      <th>2018-06-01</th>\n",
       "      <td>21589</td>\n",
       "      <td>21147.877799</td>\n",
       "    </tr>\n",
       "    <tr>\n",
       "      <th>2018-07-01</th>\n",
       "      <td>21919</td>\n",
       "      <td>21293.410758</td>\n",
       "    </tr>\n",
       "    <tr>\n",
       "      <th>2018-08-01</th>\n",
       "      <td>23381</td>\n",
       "      <td>23091.549305</td>\n",
       "    </tr>\n",
       "    <tr>\n",
       "      <th>2018-09-01</th>\n",
       "      <td>20260</td>\n",
       "      <td>20573.570547</td>\n",
       "    </tr>\n",
       "    <tr>\n",
       "      <th>2018-10-01</th>\n",
       "      <td>21473</td>\n",
       "      <td>21111.076324</td>\n",
       "    </tr>\n",
       "    <tr>\n",
       "      <th>2018-11-01</th>\n",
       "      <td>25831</td>\n",
       "      <td>24738.940695</td>\n",
       "    </tr>\n",
       "    <tr>\n",
       "      <th>2018-12-01</th>\n",
       "      <td>34706</td>\n",
       "      <td>32719.472659</td>\n",
       "    </tr>\n",
       "    <tr>\n",
       "      <th>2019-01-01</th>\n",
       "      <td>16410</td>\n",
       "      <td>17011.697151</td>\n",
       "    </tr>\n",
       "    <tr>\n",
       "      <th>2019-02-01</th>\n",
       "      <td>18134</td>\n",
       "      <td>19614.130009</td>\n",
       "    </tr>\n",
       "    <tr>\n",
       "      <th>2019-03-01</th>\n",
       "      <td>22093</td>\n",
       "      <td>23034.846532</td>\n",
       "    </tr>\n",
       "    <tr>\n",
       "      <th>2019-04-01</th>\n",
       "      <td>21597</td>\n",
       "      <td>21467.198239</td>\n",
       "    </tr>\n",
       "    <tr>\n",
       "      <th>2019-05-01</th>\n",
       "      <td>23200</td>\n",
       "      <td>22890.602347</td>\n",
       "    </tr>\n",
       "    <tr>\n",
       "      <th>2019-06-01</th>\n",
       "      <td>21123</td>\n",
       "      <td>21893.577219</td>\n",
       "    </tr>\n",
       "    <tr>\n",
       "      <th>2019-07-01</th>\n",
       "      <td>21714</td>\n",
       "      <td>22011.990104</td>\n",
       "    </tr>\n",
       "    <tr>\n",
       "      <th>2019-08-01</th>\n",
       "      <td>23791</td>\n",
       "      <td>23605.453279</td>\n",
       "    </tr>\n",
       "    <tr>\n",
       "      <th>2019-09-01</th>\n",
       "      <td>19695</td>\n",
       "      <td>21403.928465</td>\n",
       "    </tr>\n",
       "    <tr>\n",
       "      <th>2019-10-01</th>\n",
       "      <td>21113</td>\n",
       "      <td>21869.466474</td>\n",
       "    </tr>\n",
       "  </tbody>\n",
       "</table>\n",
       "</div>"
      ],
      "text/plain": [
       "            Sales   Predictions\n",
       "DATE                           \n",
       "2018-05-01  23764  22284.356484\n",
       "2018-06-01  21589  21147.877799\n",
       "2018-07-01  21919  21293.410758\n",
       "2018-08-01  23381  23091.549305\n",
       "2018-09-01  20260  20573.570547\n",
       "2018-10-01  21473  21111.076324\n",
       "2018-11-01  25831  24738.940695\n",
       "2018-12-01  34706  32719.472659\n",
       "2019-01-01  16410  17011.697151\n",
       "2019-02-01  18134  19614.130009\n",
       "2019-03-01  22093  23034.846532\n",
       "2019-04-01  21597  21467.198239\n",
       "2019-05-01  23200  22890.602347\n",
       "2019-06-01  21123  21893.577219\n",
       "2019-07-01  21714  22011.990104\n",
       "2019-08-01  23791  23605.453279\n",
       "2019-09-01  19695  21403.928465\n",
       "2019-10-01  21113  21869.466474"
      ]
     },
     "execution_count": 92,
     "metadata": {},
     "output_type": "execute_result"
    }
   ],
   "source": [
    "test"
   ]
  },
  {
   "cell_type": "code",
   "execution_count": 93,
   "metadata": {
    "execution": {
     "iopub.execute_input": "2024-10-06T11:49:18.810063Z",
     "iopub.status.busy": "2024-10-06T11:49:18.809572Z",
     "iopub.status.idle": "2024-10-06T11:49:19.067860Z",
     "shell.execute_reply": "2024-10-06T11:49:19.067071Z",
     "shell.execute_reply.started": "2024-10-06T11:49:18.810013Z"
    }
   },
   "outputs": [
    {
     "data": {
      "text/plain": [
       "<AxesSubplot:xlabel='DATE'>"
      ]
     },
     "execution_count": 93,
     "metadata": {},
     "output_type": "execute_result"
    },
    {
     "data": {
      "image/png": "[encoded data removed]",
      "text/plain": [
       "<Figure size 864x576 with 1 Axes>"
      ]
     },
     "metadata": {
      "needs_background": "light"
     },
     "output_type": "display_data"
    }
   ],
   "source": [
    "test.plot(figsize=(12, 8))"
   ]
  },
  {
   "cell_type": "code",
   "execution_count": 94,
   "metadata": {
    "execution": {
     "iopub.execute_input": "2024-10-06T11:50:12.619461Z",
     "iopub.status.busy": "2024-10-06T11:50:12.619082Z",
     "iopub.status.idle": "2024-10-06T11:50:13.072766Z",
     "shell.execute_reply": "2024-10-06T11:50:13.071830Z",
     "shell.execute_reply.started": "2024-10-06T11:50:12.619430Z"
    }
   },
   "outputs": [],
   "source": [
    "forecast = []\n",
    "# Replace periods with whatever forecast lengt you want \n",
    "periods = 12\n",
    "\n",
    "first_eval_batch = scaled_full_data[-length:]\n",
    "current_batch = first_eval_batch.reshape((1, length, n_features))\n",
    "\n",
    "for i in range(periods):\n",
    "    \n",
    "    # get prediction 1 time  stamp ahead \n",
    "    current_pred = model.predict(current_batch)[0]\n",
    "    \n",
    "    # store prediction \n",
    "    forecast.append(current_pred)\n",
    "    \n",
    "    # update batch to now include prediction and drop first value \n",
    "    current_batch = np.append(current_batch[:, 1:, :], [[current_pred]], axis=1)"
   ]
  },
  {
   "cell_type": "code",
   "execution_count": 95,
   "metadata": {
    "execution": {
     "iopub.execute_input": "2024-10-06T11:50:13.609336Z",
     "iopub.status.busy": "2024-10-06T11:50:13.608994Z",
     "iopub.status.idle": "2024-10-06T11:50:13.613373Z",
     "shell.execute_reply": "2024-10-06T11:50:13.612427Z",
     "shell.execute_reply.started": "2024-10-06T11:50:13.609307Z"
    }
   },
   "outputs": [],
   "source": [
    "forecast = scaler.inverse_transform(forecast)"
   ]
  },
  {
   "cell_type": "code",
   "execution_count": 96,
   "metadata": {
    "execution": {
     "iopub.execute_input": "2024-10-06T11:50:14.581215Z",
     "iopub.status.busy": "2024-10-06T11:50:14.580881Z",
     "iopub.status.idle": "2024-10-06T11:50:14.592135Z",
     "shell.execute_reply": "2024-10-06T11:50:14.591174Z",
     "shell.execute_reply.started": "2024-10-06T11:50:14.581186Z"
    }
   },
   "outputs": [
    {
     "data": {
      "text/html": [
       "<div>\n",
       "<style scoped>\n",
       "    .dataframe tbody tr th:only-of-type {\n",
       "        vertical-align: middle;\n",
       "    }\n",
       "\n",
       "    .dataframe tbody tr th {\n",
       "        vertical-align: top;\n",
       "    }\n",
       "\n",
       "    .dataframe thead th {\n",
       "        text-align: right;\n",
       "    }\n",
       "</style>\n",
       "<table border=\"1\" class=\"dataframe\">\n",
       "  <thead>\n",
       "    <tr style=\"text-align: right;\">\n",
       "      <th></th>\n",
       "      <th>Sales</th>\n",
       "    </tr>\n",
       "    <tr>\n",
       "      <th>DATE</th>\n",
       "      <th></th>\n",
       "    </tr>\n",
       "  </thead>\n",
       "  <tbody>\n",
       "    <tr>\n",
       "      <th>1992-01-01</th>\n",
       "      <td>6938</td>\n",
       "    </tr>\n",
       "    <tr>\n",
       "      <th>1992-02-01</th>\n",
       "      <td>7524</td>\n",
       "    </tr>\n",
       "    <tr>\n",
       "      <th>1992-03-01</th>\n",
       "      <td>8475</td>\n",
       "    </tr>\n",
       "    <tr>\n",
       "      <th>1992-04-01</th>\n",
       "      <td>9401</td>\n",
       "    </tr>\n",
       "    <tr>\n",
       "      <th>1992-05-01</th>\n",
       "      <td>9558</td>\n",
       "    </tr>\n",
       "    <tr>\n",
       "      <th>...</th>\n",
       "      <td>...</td>\n",
       "    </tr>\n",
       "    <tr>\n",
       "      <th>2019-06-01</th>\n",
       "      <td>21123</td>\n",
       "    </tr>\n",
       "    <tr>\n",
       "      <th>2019-07-01</th>\n",
       "      <td>21714</td>\n",
       "    </tr>\n",
       "    <tr>\n",
       "      <th>2019-08-01</th>\n",
       "      <td>23791</td>\n",
       "    </tr>\n",
       "    <tr>\n",
       "      <th>2019-09-01</th>\n",
       "      <td>19695</td>\n",
       "    </tr>\n",
       "    <tr>\n",
       "      <th>2019-10-01</th>\n",
       "      <td>21113</td>\n",
       "    </tr>\n",
       "  </tbody>\n",
       "</table>\n",
       "<p>334 rows × 1 columns</p>\n",
       "</div>"
      ],
      "text/plain": [
       "            Sales\n",
       "DATE             \n",
       "1992-01-01   6938\n",
       "1992-02-01   7524\n",
       "1992-03-01   8475\n",
       "1992-04-01   9401\n",
       "1992-05-01   9558\n",
       "...           ...\n",
       "2019-06-01  21123\n",
       "2019-07-01  21714\n",
       "2019-08-01  23791\n",
       "2019-09-01  19695\n",
       "2019-10-01  21113\n",
       "\n",
       "[334 rows x 1 columns]"
      ]
     },
     "execution_count": 96,
     "metadata": {},
     "output_type": "execute_result"
    }
   ],
   "source": [
    "sales_data"
   ]
  },
  {
   "cell_type": "code",
   "execution_count": 97,
   "metadata": {
    "execution": {
     "iopub.execute_input": "2024-10-06T11:50:15.234184Z",
     "iopub.status.busy": "2024-10-06T11:50:15.233824Z",
     "iopub.status.idle": "2024-10-06T11:50:15.239921Z",
     "shell.execute_reply": "2024-10-06T11:50:15.239019Z",
     "shell.execute_reply.started": "2024-10-06T11:50:15.234149Z"
    }
   },
   "outputs": [
    {
     "data": {
      "text/plain": [
       "array([[25836.00095463],\n",
       "       [33405.12013531],\n",
       "       [17455.94740438],\n",
       "       [19157.80632424],\n",
       "       [22671.67822361],\n",
       "       [22248.8306489 ],\n",
       "       [23584.47827625],\n",
       "       [21802.39440536],\n",
       "       [22306.39534092],\n",
       "       [24109.42466259],\n",
       "       [20559.90133381],\n",
       "       [21804.26928425]])"
      ]
     },
     "execution_count": 97,
     "metadata": {},
     "output_type": "execute_result"
    }
   ],
   "source": [
    "forecast"
   ]
  },
  {
   "cell_type": "code",
   "execution_count": 98,
   "metadata": {
    "execution": {
     "iopub.execute_input": "2024-10-06T11:50:15.722085Z",
     "iopub.status.busy": "2024-10-06T11:50:15.721748Z",
     "iopub.status.idle": "2024-10-06T11:50:15.726524Z",
     "shell.execute_reply": "2024-10-06T11:50:15.725675Z",
     "shell.execute_reply.started": "2024-10-06T11:50:15.722053Z"
    }
   },
   "outputs": [],
   "source": [
    "forecast_index = pd.date_range(start='2019-11-01', periods=periods,\n",
    "                              freq='MS')"
   ]
  },
  {
   "cell_type": "code",
   "execution_count": 99,
   "metadata": {
    "execution": {
     "iopub.execute_input": "2024-10-06T11:50:16.114786Z",
     "iopub.status.busy": "2024-10-06T11:50:16.114477Z",
     "iopub.status.idle": "2024-10-06T11:50:16.120517Z",
     "shell.execute_reply": "2024-10-06T11:50:16.119666Z",
     "shell.execute_reply.started": "2024-10-06T11:50:16.114758Z"
    }
   },
   "outputs": [
    {
     "data": {
      "text/plain": [
       "DatetimeIndex(['2019-11-01', '2019-12-01', '2020-01-01', '2020-02-01',\n",
       "               '2020-03-01', '2020-04-01', '2020-05-01', '2020-06-01',\n",
       "               '2020-07-01', '2020-08-01', '2020-09-01', '2020-10-01'],\n",
       "              dtype='datetime64[ns]', freq='MS')"
      ]
     },
     "execution_count": 99,
     "metadata": {},
     "output_type": "execute_result"
    }
   ],
   "source": [
    "forecast_index"
   ]
  },
  {
   "cell_type": "code",
   "execution_count": 100,
   "metadata": {
    "execution": {
     "iopub.execute_input": "2024-10-06T11:50:16.500222Z",
     "iopub.status.busy": "2024-10-06T11:50:16.499898Z",
     "iopub.status.idle": "2024-10-06T11:50:16.504555Z",
     "shell.execute_reply": "2024-10-06T11:50:16.503716Z",
     "shell.execute_reply.started": "2024-10-06T11:50:16.500194Z"
    }
   },
   "outputs": [],
   "source": [
    "forecast_data = pd.DataFrame(data=forecast, index=forecast_index, \n",
    "                             columns=['Forecast'])"
   ]
  },
  {
   "cell_type": "code",
   "execution_count": 101,
   "metadata": {
    "execution": {
     "iopub.execute_input": "2024-10-06T11:50:16.818596Z",
     "iopub.status.busy": "2024-10-06T11:50:16.818145Z",
     "iopub.status.idle": "2024-10-06T11:50:16.828402Z",
     "shell.execute_reply": "2024-10-06T11:50:16.827324Z",
     "shell.execute_reply.started": "2024-10-06T11:50:16.818555Z"
    }
   },
   "outputs": [
    {
     "data": {
      "text/html": [
       "<div>\n",
       "<style scoped>\n",
       "    .dataframe tbody tr th:only-of-type {\n",
       "        vertical-align: middle;\n",
       "    }\n",
       "\n",
       "    .dataframe tbody tr th {\n",
       "        vertical-align: top;\n",
       "    }\n",
       "\n",
       "    .dataframe thead th {\n",
       "        text-align: right;\n",
       "    }\n",
       "</style>\n",
       "<table border=\"1\" class=\"dataframe\">\n",
       "  <thead>\n",
       "    <tr style=\"text-align: right;\">\n",
       "      <th></th>\n",
       "      <th>Forecast</th>\n",
       "    </tr>\n",
       "  </thead>\n",
       "  <tbody>\n",
       "    <tr>\n",
       "      <th>2019-11-01</th>\n",
       "      <td>25836.000955</td>\n",
       "    </tr>\n",
       "    <tr>\n",
       "      <th>2019-12-01</th>\n",
       "      <td>33405.120135</td>\n",
       "    </tr>\n",
       "    <tr>\n",
       "      <th>2020-01-01</th>\n",
       "      <td>17455.947404</td>\n",
       "    </tr>\n",
       "    <tr>\n",
       "      <th>2020-02-01</th>\n",
       "      <td>19157.806324</td>\n",
       "    </tr>\n",
       "    <tr>\n",
       "      <th>2020-03-01</th>\n",
       "      <td>22671.678224</td>\n",
       "    </tr>\n",
       "    <tr>\n",
       "      <th>2020-04-01</th>\n",
       "      <td>22248.830649</td>\n",
       "    </tr>\n",
       "    <tr>\n",
       "      <th>2020-05-01</th>\n",
       "      <td>23584.478276</td>\n",
       "    </tr>\n",
       "    <tr>\n",
       "      <th>2020-06-01</th>\n",
       "      <td>21802.394405</td>\n",
       "    </tr>\n",
       "    <tr>\n",
       "      <th>2020-07-01</th>\n",
       "      <td>22306.395341</td>\n",
       "    </tr>\n",
       "    <tr>\n",
       "      <th>2020-08-01</th>\n",
       "      <td>24109.424663</td>\n",
       "    </tr>\n",
       "    <tr>\n",
       "      <th>2020-09-01</th>\n",
       "      <td>20559.901334</td>\n",
       "    </tr>\n",
       "    <tr>\n",
       "      <th>2020-10-01</th>\n",
       "      <td>21804.269284</td>\n",
       "    </tr>\n",
       "  </tbody>\n",
       "</table>\n",
       "</div>"
      ],
      "text/plain": [
       "                Forecast\n",
       "2019-11-01  25836.000955\n",
       "2019-12-01  33405.120135\n",
       "2020-01-01  17455.947404\n",
       "2020-02-01  19157.806324\n",
       "2020-03-01  22671.678224\n",
       "2020-04-01  22248.830649\n",
       "2020-05-01  23584.478276\n",
       "2020-06-01  21802.394405\n",
       "2020-07-01  22306.395341\n",
       "2020-08-01  24109.424663\n",
       "2020-09-01  20559.901334\n",
       "2020-10-01  21804.269284"
      ]
     },
     "execution_count": 101,
     "metadata": {},
     "output_type": "execute_result"
    }
   ],
   "source": [
    "forecast_data"
   ]
  },
  {
   "cell_type": "code",
   "execution_count": 102,
   "metadata": {
    "execution": {
     "iopub.execute_input": "2024-10-06T11:50:17.407417Z",
     "iopub.status.busy": "2024-10-06T11:50:17.407036Z",
     "iopub.status.idle": "2024-10-06T11:50:17.613432Z",
     "shell.execute_reply": "2024-10-06T11:50:17.612695Z",
     "shell.execute_reply.started": "2024-10-06T11:50:17.407380Z"
    }
   },
   "outputs": [
    {
     "data": {
      "text/plain": [
       "<AxesSubplot:>"
      ]
     },
     "execution_count": 102,
     "metadata": {},
     "output_type": "execute_result"
    },
    {
     "data": {
      "image/png": "[encoded data removed]",
      "text/plain": [
       "<Figure size 432x288 with 1 Axes>"
      ]
     },
     "metadata": {
      "needs_background": "light"
     },
     "output_type": "display_data"
    }
   ],
   "source": [
    "forecast_data.plot()"
   ]
  },
  {
   "cell_type": "code",
   "execution_count": 103,
   "metadata": {
    "execution": {
     "iopub.execute_input": "2024-10-06T11:50:18.474487Z",
     "iopub.status.busy": "2024-10-06T11:50:18.474074Z",
     "iopub.status.idle": "2024-10-06T11:50:18.735933Z",
     "shell.execute_reply": "2024-10-06T11:50:18.735134Z",
     "shell.execute_reply.started": "2024-10-06T11:50:18.474451Z"
    }
   },
   "outputs": [
    {
     "data": {
      "text/plain": [
       "<AxesSubplot:xlabel='DATE'>"
      ]
     },
     "execution_count": 103,
     "metadata": {},
     "output_type": "execute_result"
    },
    {
     "data": {
      "image/png": "[encoded data removed]",
      "text/plain": [
       "<Figure size 432x288 with 1 Axes>"
      ]
     },
     "metadata": {
      "needs_background": "light"
     },
     "output_type": "display_data"
    }
   ],
   "source": [
    "ax = sales_data.plot()\n",
    "forecast_data.plot(ax=ax)"
   ]
  },
  {
   "cell_type": "code",
   "execution_count": 104,
   "metadata": {
    "execution": {
     "iopub.execute_input": "2024-10-06T11:50:20.337902Z",
     "iopub.status.busy": "2024-10-06T11:50:20.337558Z",
     "iopub.status.idle": "2024-10-06T11:50:20.629191Z",
     "shell.execute_reply": "2024-10-06T11:50:20.628447Z",
     "shell.execute_reply.started": "2024-10-06T11:50:20.337873Z"
    }
   },
   "outputs": [
    {
     "data": {
      "text/plain": [
       "(576.0, 611.0)"
      ]
     },
     "execution_count": 104,
     "metadata": {},
     "output_type": "execute_result"
    },
    {
     "data": {
      "image/png": "[encoded data removed]",
      "text/plain": [
       "<Figure size 432x288 with 1 Axes>"
      ]
     },
     "metadata": {
      "needs_background": "light"
     },
     "output_type": "display_data"
    }
   ],
   "source": [
    "ax = sales_data.plot()\n",
    "forecast_data.plot(ax=ax)\n",
    "plt.xlim('2018-01-01', '2020-12-01')"
   ]
  },
  {
   "cell_type": "markdown",
   "metadata": {},
   "source": [
    "**Happy Learning :)**"
   ]
  },
  {
   "cell_type": "code",
   "execution_count": null,
   "metadata": {},
   "outputs": [],
   "source": []
  }
 ],
 "metadata": {
  "kaggle": {
   "accelerator": "gpu",
   "dataSources": [
    {
     "datasetId": 1210098,
     "sourceId": 2021809,
     "sourceType": "datasetVersion"
    }
   ],
   "dockerImageVersionId": 30068,
   "isGpuEnabled": true,
   "isInternetEnabled": true,
   "language": "python",
   "sourceType": "notebook"
  },
  "kernelspec": {
   "display_name": "Python 3 (ipykernel)",
   "language": "python",
   "name": "python3"
  },
  "language_info": {
   "codemirror_mode": {
    "name": "ipython",
    "version": 3
   },
   "file_extension": ".py",
   "mimetype": "text/x-python",
   "name": "python",
   "nbconvert_exporter": "python",
   "pygments_lexer": "ipython3",
   "version": "3.12.4"
  }
 },
 "nbformat": 4,
 "nbformat_minor": 4
}
